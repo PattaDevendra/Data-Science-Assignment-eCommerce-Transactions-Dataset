{
  "metadata": {
    "kernelspec": {
      "name": "python",
      "display_name": "Python (Pyodide)",
      "language": "python"
    },
    "language_info": {
      "codemirror_mode": {
        "name": "python",
        "version": 3
      },
      "file_extension": ".py",
      "mimetype": "text/x-python",
      "name": "python",
      "nbconvert_exporter": "python",
      "pygments_lexer": "ipython3",
      "version": "3.8"
    }
  },
  "nbformat_minor": 5,
  "nbformat": 4,
  "cells": [
    {
      "id": "243cdcf2-7285-4d72-929d-597e20051923",
      "cell_type": "code",
      "source": "import pandas as pd\nimport numpy as np\nfrom sklearn.metrics.pairwise import cosine_similarity\nfrom sklearn.preprocessing import StandardScaler\n",
      "metadata": {
        "trusted": true
      },
      "outputs": [],
      "execution_count": 3
    },
    {
      "id": "011782b4-d623-4891-a5db-f09c63d4bfdd",
      "cell_type": "code",
      "source": "\n# Step 1: Load the customer and transaction data\ncustomers = pd.read_csv('Customers.csv')\ntransactions = pd.read_csv('Transactions.csv')\n\n# Step 2: Feature Engineering - Combine customer profile with transaction history\n# Merge customer data with transaction data (assuming 'CustomerID' is a common column)\ndata = pd.merge(customers, transactions, on=\"CustomerID\")\n\n# Step 3: Normalize numerical features (e.g., Age, Spending Amount)\nscaler = StandardScaler()\nscaled_data = scaler.fit_transform(data.select_dtypes(include=[np.number]))\n\n# Step 4: Calculate Cosine Similarity\ncosine_sim = cosine_similarity(scaled_data)\n\n# Step 5: Get Top 3 Lookalikes for each of the first 20 customers\nlookalikes = {}\n\n# For the first 20 customers\nfor i in range(20):\n    # Get the cosine similarity scores for customer i with all other customers\n    similarity_scores = cosine_sim[i]\n    \n    # Sort the similarity scores in descending order and get the top 3 customers\n    similar_customers = np.argsort(similarity_scores)[::-1][1:4]  # Exclude self (i=0)\n    scores = similarity_scores[similar_customers]\n    \n    # Map the customer ID to a list of 3 most similar customers with scores\n    lookalikes[data['CustomerID'][i]] = list(zip(data['CustomerID'][similar_customers], scores))\n\n# Step 6: Create the Lookalike.csv file\nlookalike_df = []\nfor cust_id, similar in lookalikes.items():\n    for similar_cust, score in similar:\n        lookalike_df.append([cust_id, similar_cust, score])\n\n# Convert the list to a DataFrame\nlookalike_df = pd.DataFrame(lookalike_df, columns=[\"CustomerID\", \"Lookalike_CustomerID\", \"Similarity_Score\"])\n\n# Save the DataFrame to a CSV file\nlookalike_df.to_csv('Lookalike.csv', index=False)\n\n# Output the first few results\nprint(lookalike_df.head())",
      "metadata": {
        "trusted": true
      },
      "outputs": [
        {
          "name": "stdout",
          "output_type": "stream",
          "text": "  CustomerID Lookalike_CustomerID  Similarity_Score\n0      C0001                C0001          1.000000\n1      C0001                C0102          1.000000\n2      C0001                C0165          1.000000\n3      C0002                C0049          1.000000\n4      C0002                C0043          0.999998\n"
        }
      ],
      "execution_count": 4
    },
    {
      "id": "074d8dfe-2b39-41c6-9883-013b88c3bb81",
      "cell_type": "code",
      "source": "",
      "metadata": {
        "trusted": true
      },
      "outputs": [],
      "execution_count": null
    }
  ]
}